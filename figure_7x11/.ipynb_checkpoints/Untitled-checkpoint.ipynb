{
 "cells": [
  {
   "cell_type": "code",
   "execution_count": 1,
   "id": "286c8695-194a-495c-873c-5b772a96bc4f",
   "metadata": {},
   "outputs": [],
   "source": [
    "import numpy as np"
   ]
  },
  {
   "cell_type": "code",
   "execution_count": 21,
   "id": "7acb0cd1-88dc-48fc-a5e3-ed1c5ffddc7c",
   "metadata": {},
   "outputs": [],
   "source": [
    "base=np.zeros((11,7))"
   ]
  },
  {
   "cell_type": "code",
   "execution_count": 37,
   "id": "f29a235b-6398-42b5-aac6-afcacd6c1501",
   "metadata": {},
   "outputs": [
    {
     "name": "stdout",
     "output_type": "stream",
     "text": [
      "[[1. 1. 1. 0. 0. 0. 0.]\n",
      " [1. 1. 1. 0. 1. 1. 1.]\n",
      " [1. 1. 1. 0. 1. 1. 1.]\n",
      " [1. 1. 1. 0. 1. 1. 1.]\n",
      " [1. 1. 1. 0. 1. 1. 1.]\n",
      " [1. 1. 1. 0. 1. 1. 1.]\n",
      " [1. 1. 1. 0. 1. 1. 1.]\n",
      " [1. 1. 1. 0. 0. 0. 0.]\n",
      " [1. 1. 1. 0. 0. 0. 0.]\n",
      " [1. 1. 1. 0. 0. 0. 0.]\n",
      " [1. 1. 1. 0. 0. 0. 0.]]\n"
     ]
    }
   ],
   "source": [
    "\n",
    "pattern1=np.zeros((11,7))\n",
    "\n",
    "for j in range(3):\n",
    "    for i in range(11):\n",
    "        pattern1[i][j]=1.0\n",
    "        \n",
    "for j in range(4,7):\n",
    "    for i in range(1,7):\n",
    "        pattern1[i][j]=1.0\n",
    "        \n",
    "print(pattern1)\n",
    "np.savetxt('pattern7.csv',pattern1,delimiter=',')"
   ]
  },
  {
   "cell_type": "markdown",
   "id": "892efff9-077d-4b02-863f-54c147daa536",
   "metadata": {},
   "source": [
    "#### "
   ]
  },
  {
   "cell_type": "code",
   "execution_count": null,
   "id": "8e61aeb3-914c-4496-9a22-3157fdc4ddb5",
   "metadata": {},
   "outputs": [],
   "source": []
  }
 ],
 "metadata": {
  "kernelspec": {
   "display_name": "Python 3 (ipykernel)",
   "language": "python",
   "name": "python3"
  },
  "language_info": {
   "codemirror_mode": {
    "name": "ipython",
    "version": 3
   },
   "file_extension": ".py",
   "mimetype": "text/x-python",
   "name": "python",
   "nbconvert_exporter": "python",
   "pygments_lexer": "ipython3",
   "version": "3.9.13"
  }
 },
 "nbformat": 4,
 "nbformat_minor": 5
}
